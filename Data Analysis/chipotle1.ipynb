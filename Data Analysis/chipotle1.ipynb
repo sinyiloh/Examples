{
 "cells": [
  {
   "cell_type": "markdown",
   "metadata": {},
   "source": [
    "# Analyzing Chipotle Data\n",
    "\n",
    "\n",
    "\n",
    "---"
   ]
  },
  {
   "cell_type": "markdown",
   "metadata": {},
   "source": [
    "For this exercise, I will complete a series of exercises exploring [order data from Chipotle](https://github.com/TheUpshot/chipotle), compliments of _The New York Times'_ \"The Upshot.\"\n",
    "\n",
    "Objective: To understand the essentials of Chipotle's order data: how many orders are being made, the average price per order, how many different ingredients are used, etc. This is a practice for business analysis skills."
   ]
  },
  {
   "cell_type": "markdown",
   "metadata": {},
   "source": [
    "---\n",
    "\n",
    "## Basic Level"
   ]
  },
  {
   "cell_type": "markdown",
   "metadata": {},
   "source": [
    "### Part 1: Read in the file with `csv.reader()` and store it in an object called `file_nested_list`.\n",
    "\n",
    "Note: The data is in TSV (tab-separated value) file, and `csv.reader()` needs to be told [how to handle it](https://docs.python.org/2/library/csv.html)."
   ]
  },
  {
   "cell_type": "code",
   "execution_count": 990,
   "metadata": {},
   "outputs": [],
   "source": [
    "import csv\n",
    "import numpy as np\n",
    "import pandas as pd\n",
    "from collections import namedtuple   # Convenient to store the data rows\n",
    "\n",
    "DATA_FILE = './data/chipotle.tsv'"
   ]
  },
  {
   "cell_type": "code",
   "execution_count": 935,
   "metadata": {},
   "outputs": [],
   "source": [
    "with open(DATA_FILE) as file:\n",
    "    reader = csv.reader(file, delimiter='\\t')\n",
    "    file_nested_list = [r for r in reader]"
   ]
  },
  {
   "cell_type": "markdown",
   "metadata": {},
   "source": [
    "### Part 2: Separate `file_nested_list` into the `header` and the `data`.\n"
   ]
  },
  {
   "cell_type": "code",
   "execution_count": 936,
   "metadata": {},
   "outputs": [
    {
     "data": {
      "text/plain": [
       "['order_id', 'quantity', 'item_name', 'choice_description', 'item_price']"
      ]
     },
     "execution_count": 936,
     "metadata": {},
     "output_type": "execute_result"
    }
   ],
   "source": [
    "headers = file_nested_list[0]\n",
    "headers"
   ]
  },
  {
   "cell_type": "code",
   "execution_count": 937,
   "metadata": {},
   "outputs": [
    {
     "data": {
      "text/plain": [
       "[['1', '1', 'Chips and Fresh Tomato Salsa', 'NULL', '$2.39 '],\n",
       " ['1', '1', 'Izze', '[Clementine]', '$3.39 '],\n",
       " ['1', '1', 'Nantucket Nectar', '[Apple]', '$3.39 '],\n",
       " ['1', '1', 'Chips and Tomatillo-Green Chili Salsa', 'NULL', '$2.39 '],\n",
       " ['2',\n",
       "  '2',\n",
       "  'Chicken Bowl',\n",
       "  '[Tomatillo-Red Chili Salsa (Hot), [Black Beans, Rice, Cheese, Sour Cream]]',\n",
       "  '$16.98 ']]"
      ]
     },
     "execution_count": 937,
     "metadata": {},
     "output_type": "execute_result"
    }
   ],
   "source": [
    "file_nested_list.pop(0)\n",
    "file_nested_list[:5]"
   ]
  },
  {
   "cell_type": "markdown",
   "metadata": {},
   "source": [
    "---\n",
    "\n",
    "## Intermediate Level"
   ]
  },
  {
   "cell_type": "markdown",
   "metadata": {},
   "source": [
    "### Part 3: Calculate the average price of an order.\n"
   ]
  },
  {
   "cell_type": "code",
   "execution_count": 979,
   "metadata": {},
   "outputs": [],
   "source": [
    "#import csv into pd.df\n",
    "chipotle = pd.read_csv(DATA_FILE, delimiter='\\t',)\n",
    "#do basic cleanup and set up of columns\n",
    "chipotle['unit_price'] = pd.to_numeric(chipotle['item_price'].str.replace('$',''))\n",
    "chipotle['item_price'] = chipotle['unit_price'] * chipotle['quantity']\n",
    "chipotle = chipotle.reindex(columns=chipotle.columns[[0,1,2,3,5,4]])"
   ]
  },
  {
   "cell_type": "code",
   "execution_count": 980,
   "metadata": {},
   "outputs": [
    {
     "data": {
      "text/plain": [
       "'21.39'"
      ]
     },
     "execution_count": 980,
     "metadata": {},
     "output_type": "execute_result"
    }
   ],
   "source": [
    "#avg price per order\n",
    "f\"{chipotle.groupby('order_id')['item_price'].sum().mean():.2f}\""
   ]
  },
  {
   "cell_type": "markdown",
   "metadata": {},
   "source": [
    "### Part 4: Create a list (or set) named `unique_sodas` containing all of unique sodas and soft drinks that Chipotle sells.\n",
    "\n",
    "Note: Just look for `'Canned Soda'` and `'Canned Soft Drink'`, and ignore other drinks like `'Izze'`."
   ]
  },
  {
   "cell_type": "code",
   "execution_count": 981,
   "metadata": {},
   "outputs": [
    {
     "data": {
      "text/plain": [
       "array(['[Sprite]', '[Dr. Pepper]', '[Mountain Dew]', '[Diet Dr. Pepper]',\n",
       "       '[Coke]', '[Diet Coke]', '[Lemonade]', '[Nestea]'], dtype=object)"
      ]
     },
     "execution_count": 981,
     "metadata": {},
     "output_type": "execute_result"
    }
   ],
   "source": [
    "#more cleanup before using 'Canned' to get a boolean array, which is applied on choice_description, then get unique()\n",
    "chipotle = chipotle.replace({'[Coca Cola]': '[Coke]'})\n",
    "chipotle.choice_description[chipotle.item_name.str.contains('Canned')].unique()"
   ]
  },
  {
   "cell_type": "markdown",
   "metadata": {},
   "source": [
    "---\n",
    "\n",
    "## Advanced Level\n"
   ]
  },
  {
   "cell_type": "markdown",
   "metadata": {},
   "source": [
    "### Part 5: Calculate the average number of toppings per burrito.\n",
    "\n",
    "Note: Let's ignore the `quantity` column to simplify this task.\n",
    "\n",
    "\n"
   ]
  },
  {
   "cell_type": "code",
   "execution_count": 989,
   "metadata": {},
   "outputs": [
    {
     "data": {
      "text/plain": [
       "'5.40'"
      ]
     },
     "execution_count": 989,
     "metadata": {},
     "output_type": "execute_result"
    }
   ],
   "source": [
    "#get all toppings in pd.S\n",
    "toppings = chipotle.choice_description[chipotle.item_name.str.contains('Burrito')].reset_index(drop=True)\n",
    "#clean up and move toppings into pd.df\n",
    "toppings = toppings.str.replace('[\\[\\]]','') \n",
    "toppings = toppings.str.split(',')\n",
    "#get length, then mean\n",
    "toppingsSalsa = toppings.apply(len)\n",
    "f'{toppingsSalsa.mean():.2f}'"
   ]
  },
  {
   "cell_type": "markdown",
   "metadata": {},
   "source": [
    "### Part 6: Create a dictionary. Let the keys represent chip orders and the values represent the total number of orders.\n",
    "\n",
    "Expected output: `{'Chips and Roasted Chili-Corn Salsa': 18, ... }`\n"
   ]
  },
  {
   "cell_type": "code",
   "execution_count": 993,
   "metadata": {},
   "outputs": [
    {
     "data": {
      "text/plain": [
       "Chips and Guacamole                      506\n",
       "Chips                                    340\n",
       "Chips and Fresh Tomato Salsa             131\n",
       "Chips and Tomatillo Green Chili Salsa     78\n",
       "Chips and Tomatillo Red Chili Salsa       75\n",
       "Chips and Roasted Chili Corn Salsa        41\n",
       "Name: item_name, dtype: int64"
      ]
     },
     "execution_count": 993,
     "metadata": {},
     "output_type": "execute_result"
    }
   ],
   "source": [
    "#allChipsOrdered is pd.S of all chips ordered\n",
    "chipsOnlyBA = chipotle.item_name.str.contains('Chips')\n",
    "allChipsOrdered = chipotle.item_name[chipsOnlyBA]\n",
    "\n",
    "#clean dirty data for chips \n",
    "allChipsOrdered = allChipsOrdered.str.replace('-',' ')\n",
    "allChipsOrdered = allChipsOrdered.str.replace('Chips and Mild Fresh Tomato Salsa','Chips and Fresh Tomato Salsa')\n",
    "allChipsOrdered = allChipsOrdered.str.replace('Side of Chips','Chips')\n",
    "\n",
    "#consider quantity ordered by using np.repeat to add to pd.S, then value_count orders.\n",
    "allChipsOrdered = np.repeat(allChipsOrdered, chipotle.quantity[chipsOnlyBA])\n",
    "countThemOrders = allChipsOrdered.value_counts()\n",
    "countThemOrders"
   ]
  },
  {
   "cell_type": "code",
   "execution_count": 994,
   "metadata": {},
   "outputs": [
    {
     "data": {
      "text/plain": [
       "{'Chips': 340,\n",
       " 'Chips and Fresh Tomato Salsa': 131,\n",
       " 'Chips and Guacamole': 506,\n",
       " 'Chips and Roasted Chili Corn Salsa': 41,\n",
       " 'Chips and Tomatillo Green Chili Salsa': 78,\n",
       " 'Chips and Tomatillo Red Chili Salsa': 75}"
      ]
     },
     "execution_count": 994,
     "metadata": {},
     "output_type": "execute_result"
    }
   ],
   "source": [
    "chipsOrderDict = {}\n",
    "for i in range(len(countThemOrders)):\n",
    "    chipsOrderDict[countThemOrders.index[i]] = countThemOrders[i]\n",
    "chipsOrderDict"
   ]
  },
  {
   "cell_type": "markdown",
   "metadata": {},
   "source": [
    "### Try to find out something interesting:\n",
    "What toppings typically are ordered with each other? Finding strong relationships allows ground staff to suggest or upsell additional toppings."
   ]
  },
  {
   "cell_type": "code",
   "execution_count": 1051,
   "metadata": {},
   "outputs": [
    {
     "data": {
      "text/plain": [
       "True"
      ]
     },
     "execution_count": 1051,
     "metadata": {},
     "output_type": "execute_result"
    }
   ],
   "source": [
    "### recommended topping pairings ###\n",
    "\n",
    "#freshly gather all burrito toppings in a pd.S\n",
    "toppings = chipotle.choice_description[chipotle.item_name.str.contains('Burrito')].reset_index(drop=True)\n",
    "#clean up and move into a pd.df\n",
    "toppings = toppings.str.replace('[\\[\\]]','')\n",
    "toppings = toppings.str.split(', ', expand=True) #use ', ' with space to remove leading whitespace why do ppl do that\n",
    "#clean dirty data\n",
    "replacements = {\n",
    "    'Salsa': None,  #remove #badData 'Salsa' as it doesn't provide any insights\n",
    "    'Fajita Veggies':'Fajita Vegetables', #can't they use a drop down srsly\n",
    "    'Vegetarian Black Beans':'Black Beans', #there must be a way to standardise\n",
    "    'Rice':'Cilantro-Lime White Rice',\n",
    "    'White Rice':'Cilantro-Lime White Rice',\n",
    "    'Cilantro-Lime Rice':'Cilantro-Lime White Rice',\n",
    "    'Brown Rice':'Cilantro-Lime Brown Rice',\n",
    "    'Fresh Tomato Salsa':'Fresh Tomato Salsa (Mild)', #i mean..if DS are  spending 70% of their time...\n",
    "    'Fresh Tomato (Mild)':'Fresh Tomato Salsa (Mild)', #people should be killed\n",
    "    'Roasted Chili Corn Salsa':'Roasted Chili Corn Salsa (Medium)',\n",
    "    'Roasted Chili Corn (Medium)':'Roasted Chili Corn Salsa (Medium)',\n",
    "    'Tomatillo Green Chili Salsa':'Tomatillo-Green Chili Salsa (Medium)',\n",
    "    'Tomatillo Green Chili (Medium)':'Tomatillo-Green Chili Salsa (Medium)',\n",
    "    'Tomatillo Red Chili Salsa':'Tomatillo-Red Chili Salsa (Hot)', #is this DS life?\n",
    "    'Tomatillo Red Chili (Hot)':'Tomatillo-Red Chili Salsa (Hot)' #i quit\n",
    "}\n",
    "toppings = toppings.replace(replacements)\n",
    "\n",
    "#get pd.s of topping names\n",
    "uniqueToppings = pd.Series(toppings.values.flatten()).sort_values().unique() \n",
    "uniqueToppings = pd.Series(uniqueToppings[uniqueToppings!=None])\n",
    "\n",
    "#create pairing pd.df\n",
    "pairTable = pd.DataFrame([], columns=uniqueToppings, index=uniqueToppings)\n",
    "\n",
    "#loop it baby: per current topping, find how freq other toppings are bought with it, put in pairTable\n",
    "for cTopping in uniqueToppings:\n",
    "    #filter to display only cTopping in toppings, then count() per row\n",
    "    isinOrder = toppings[toppings==cTopping].count(axis=1)\n",
    "    #find out burrito orders containing cTopping: filter using boolean array\n",
    "    ordersWithcTopping = toppings[isinOrder>=1]\n",
    "    #toppings that are paired with cTopping. filter out cTopping, flatten, then value_count()\n",
    "    toppingsPaired = ordersWithcTopping[ordersWithcTopping!=cTopping]\n",
    "    pairCounts = pd.Series(toppingsPaired.values.flatten()).value_counts()\n",
    "    #add it in baby\n",
    "    pairTable[cTopping] = pairCounts\n",
    "\n",
    "#eyeball if the logic tallies and prints True\n",
    "checkTopping = 'Braised Barbacoa'\n",
    "showOrders = toppings[toppings[toppings==checkTopping].count(axis=1)>=1]\n",
    "showOrders.count().sum() - showOrders.index.size == pairTable[checkTopping].sum()"
   ]
  },
  {
   "cell_type": "markdown",
   "metadata": {},
   "source": [
    "### Analysis\n",
    "So we have a table of toppings most commonly ordered with each other. How do we begin?  \n",
    "Recommend using largest int across all toppings or largest % per topping?  \n",
    "What benchmark to cutoff: top 3 or top 25%?  \n",
    "What base benchmark to ignore—do we need minimum int to start recommending?  \n",
    "With current data set, I suggest largest %, cutoff at 75%, no base benchmark to include sufficient recommendations\n",
    "\n",
    "### Findings\n",
    "1) Presenting a table [recThese](http://localhost:8888/notebooks/unit-2_project-master/chipotle.ipynb#recThese) below that proposes toppings that goes with other toppings. Can be [filtered](http://localhost:8888/notebooks/unit-2_project-master/chipotle.ipynb#recThese-filter-by-toppings-cat) by topping category. To ask staff to suggest these with orders if any is missing, or upsell additional toppings.\n",
    "\n",
    "\n",
    "### recThese"
   ]
  },
  {
   "cell_type": "code",
   "execution_count": 1054,
   "metadata": {},
   "outputs": [
    {
     "data": {
      "text/html": [
       "<div>\n",
       "<style scoped>\n",
       "    .dataframe tbody tr th:only-of-type {\n",
       "        vertical-align: middle;\n",
       "    }\n",
       "\n",
       "    .dataframe tbody tr th {\n",
       "        vertical-align: top;\n",
       "    }\n",
       "\n",
       "    .dataframe thead th {\n",
       "        text-align: right;\n",
       "    }\n",
       "</style>\n",
       "<table border=\"1\" class=\"dataframe\">\n",
       "  <thead>\n",
       "    <tr style=\"text-align: right;\">\n",
       "      <th></th>\n",
       "      <th>cat</th>\n",
       "      <th>0</th>\n",
       "      <th>1</th>\n",
       "      <th>2</th>\n",
       "      <th>3</th>\n",
       "      <th>4</th>\n",
       "      <th>5</th>\n",
       "      <th>6</th>\n",
       "      <th>7</th>\n",
       "    </tr>\n",
       "  </thead>\n",
       "  <tbody>\n",
       "    <tr>\n",
       "      <th>Adobo-Marinated and Grilled Chicken</th>\n",
       "      <td>mains</td>\n",
       "      <td>Sour Cream</td>\n",
       "      <td>Cilantro-Lime White Rice</td>\n",
       "      <td>Cheese</td>\n",
       "      <td>-</td>\n",
       "      <td>-</td>\n",
       "      <td>-</td>\n",
       "      <td>-</td>\n",
       "      <td>-</td>\n",
       "    </tr>\n",
       "    <tr>\n",
       "      <th>Adobo-Marinated and Grilled Steak</th>\n",
       "      <td>mains</td>\n",
       "      <td>Cilantro-Lime White Rice</td>\n",
       "      <td>-</td>\n",
       "      <td>-</td>\n",
       "      <td>-</td>\n",
       "      <td>-</td>\n",
       "      <td>-</td>\n",
       "      <td>-</td>\n",
       "      <td>-</td>\n",
       "    </tr>\n",
       "    <tr>\n",
       "      <th>Black Beans</th>\n",
       "      <td>grains</td>\n",
       "      <td>Cilantro-Lime White Rice</td>\n",
       "      <td>Cheese</td>\n",
       "      <td>Sour Cream</td>\n",
       "      <td>-</td>\n",
       "      <td>-</td>\n",
       "      <td>-</td>\n",
       "      <td>-</td>\n",
       "      <td>-</td>\n",
       "    </tr>\n",
       "    <tr>\n",
       "      <th>Braised Barbacoa</th>\n",
       "      <td>mains</td>\n",
       "      <td>Sour Cream</td>\n",
       "      <td>Cilantro-Lime White Rice</td>\n",
       "      <td>Cheese</td>\n",
       "      <td>-</td>\n",
       "      <td>-</td>\n",
       "      <td>-</td>\n",
       "      <td>-</td>\n",
       "      <td>-</td>\n",
       "    </tr>\n",
       "    <tr>\n",
       "      <th>Cheese</th>\n",
       "      <td>extras</td>\n",
       "      <td>Cilantro-Lime White Rice</td>\n",
       "      <td>Sour Cream</td>\n",
       "      <td>Lettuce</td>\n",
       "      <td>Fresh Tomato Salsa (Mild)</td>\n",
       "      <td>-</td>\n",
       "      <td>-</td>\n",
       "      <td>-</td>\n",
       "      <td>-</td>\n",
       "    </tr>\n",
       "    <tr>\n",
       "      <th>Cilantro-Lime Brown Rice</th>\n",
       "      <td>grains</td>\n",
       "      <td>-</td>\n",
       "      <td>-</td>\n",
       "      <td>-</td>\n",
       "      <td>-</td>\n",
       "      <td>-</td>\n",
       "      <td>-</td>\n",
       "      <td>-</td>\n",
       "      <td>-</td>\n",
       "    </tr>\n",
       "    <tr>\n",
       "      <th>Cilantro-Lime White Rice</th>\n",
       "      <td>grains</td>\n",
       "      <td>Cheese</td>\n",
       "      <td>Sour Cream</td>\n",
       "      <td>Lettuce</td>\n",
       "      <td>Black Beans</td>\n",
       "      <td>-</td>\n",
       "      <td>-</td>\n",
       "      <td>-</td>\n",
       "      <td>-</td>\n",
       "    </tr>\n",
       "    <tr>\n",
       "      <th>Fajita Vegetables</th>\n",
       "      <td>grains</td>\n",
       "      <td>Cilantro-Lime White Rice</td>\n",
       "      <td>Cheese</td>\n",
       "      <td>Lettuce</td>\n",
       "      <td>-</td>\n",
       "      <td>-</td>\n",
       "      <td>-</td>\n",
       "      <td>-</td>\n",
       "      <td>-</td>\n",
       "    </tr>\n",
       "    <tr>\n",
       "      <th>Fresh Tomato Salsa (Mild)</th>\n",
       "      <td>Salsa - extras</td>\n",
       "      <td>Cilantro-Lime White Rice</td>\n",
       "      <td>Cheese</td>\n",
       "      <td>Sour Cream</td>\n",
       "      <td>-</td>\n",
       "      <td>-</td>\n",
       "      <td>-</td>\n",
       "      <td>-</td>\n",
       "      <td>-</td>\n",
       "    </tr>\n",
       "    <tr>\n",
       "      <th>Guacamole</th>\n",
       "      <td>extras</td>\n",
       "      <td>Cilantro-Lime White Rice</td>\n",
       "      <td>Cheese</td>\n",
       "      <td>Sour Cream</td>\n",
       "      <td>Lettuce</td>\n",
       "      <td>-</td>\n",
       "      <td>-</td>\n",
       "      <td>-</td>\n",
       "      <td>-</td>\n",
       "    </tr>\n",
       "    <tr>\n",
       "      <th>Lettuce</th>\n",
       "      <td>extras</td>\n",
       "      <td>Cilantro-Lime White Rice</td>\n",
       "      <td>Cheese</td>\n",
       "      <td>Sour Cream</td>\n",
       "      <td>-</td>\n",
       "      <td>-</td>\n",
       "      <td>-</td>\n",
       "      <td>-</td>\n",
       "      <td>-</td>\n",
       "    </tr>\n",
       "    <tr>\n",
       "      <th>Pinto Beans</th>\n",
       "      <td>grains</td>\n",
       "      <td>Cilantro-Lime White Rice</td>\n",
       "      <td>Cheese</td>\n",
       "      <td>Sour Cream</td>\n",
       "      <td>Fresh Tomato Salsa (Mild)</td>\n",
       "      <td>-</td>\n",
       "      <td>-</td>\n",
       "      <td>-</td>\n",
       "      <td>-</td>\n",
       "    </tr>\n",
       "    <tr>\n",
       "      <th>Roasted Chili Corn Salsa (Medium)</th>\n",
       "      <td>Salsa - extras</td>\n",
       "      <td>Cilantro-Lime White Rice</td>\n",
       "      <td>Cheese</td>\n",
       "      <td>Sour Cream</td>\n",
       "      <td>-</td>\n",
       "      <td>-</td>\n",
       "      <td>-</td>\n",
       "      <td>-</td>\n",
       "      <td>-</td>\n",
       "    </tr>\n",
       "    <tr>\n",
       "      <th>Sour Cream</th>\n",
       "      <td>extras</td>\n",
       "      <td>Cilantro-Lime White Rice</td>\n",
       "      <td>Cheese</td>\n",
       "      <td>Lettuce</td>\n",
       "      <td>Fresh Tomato Salsa (Mild)</td>\n",
       "      <td>-</td>\n",
       "      <td>-</td>\n",
       "      <td>-</td>\n",
       "      <td>-</td>\n",
       "    </tr>\n",
       "    <tr>\n",
       "      <th>Tomatillo-Green Chili Salsa (Medium)</th>\n",
       "      <td>Salsa - extras</td>\n",
       "      <td>Cilantro-Lime White Rice</td>\n",
       "      <td>Cheese</td>\n",
       "      <td>Sour Cream</td>\n",
       "      <td>-</td>\n",
       "      <td>-</td>\n",
       "      <td>-</td>\n",
       "      <td>-</td>\n",
       "      <td>-</td>\n",
       "    </tr>\n",
       "    <tr>\n",
       "      <th>Tomatillo-Red Chili Salsa (Hot)</th>\n",
       "      <td>Salsa - extras</td>\n",
       "      <td>Cilantro-Lime White Rice</td>\n",
       "      <td>Cheese</td>\n",
       "      <td>Lettuce</td>\n",
       "      <td>-</td>\n",
       "      <td>-</td>\n",
       "      <td>-</td>\n",
       "      <td>-</td>\n",
       "      <td>-</td>\n",
       "    </tr>\n",
       "  </tbody>\n",
       "</table>\n",
       "</div>"
      ],
      "text/plain": [
       "                                                 cat  \\\n",
       "Adobo-Marinated and Grilled Chicken            mains   \n",
       "Adobo-Marinated and Grilled Steak              mains   \n",
       "Black Beans                                   grains   \n",
       "Braised Barbacoa                               mains   \n",
       "Cheese                                        extras   \n",
       "Cilantro-Lime Brown Rice                      grains   \n",
       "Cilantro-Lime White Rice                      grains   \n",
       "Fajita Vegetables                             grains   \n",
       "Fresh Tomato Salsa (Mild)             Salsa - extras   \n",
       "Guacamole                                     extras   \n",
       "Lettuce                                       extras   \n",
       "Pinto Beans                                   grains   \n",
       "Roasted Chili Corn Salsa (Medium)     Salsa - extras   \n",
       "Sour Cream                                    extras   \n",
       "Tomatillo-Green Chili Salsa (Medium)  Salsa - extras   \n",
       "Tomatillo-Red Chili Salsa (Hot)       Salsa - extras   \n",
       "\n",
       "                                                             0  \\\n",
       "Adobo-Marinated and Grilled Chicken                 Sour Cream   \n",
       "Adobo-Marinated and Grilled Steak     Cilantro-Lime White Rice   \n",
       "Black Beans                           Cilantro-Lime White Rice   \n",
       "Braised Barbacoa                                    Sour Cream   \n",
       "Cheese                                Cilantro-Lime White Rice   \n",
       "Cilantro-Lime Brown Rice                                     -   \n",
       "Cilantro-Lime White Rice                                Cheese   \n",
       "Fajita Vegetables                     Cilantro-Lime White Rice   \n",
       "Fresh Tomato Salsa (Mild)             Cilantro-Lime White Rice   \n",
       "Guacamole                             Cilantro-Lime White Rice   \n",
       "Lettuce                               Cilantro-Lime White Rice   \n",
       "Pinto Beans                           Cilantro-Lime White Rice   \n",
       "Roasted Chili Corn Salsa (Medium)     Cilantro-Lime White Rice   \n",
       "Sour Cream                            Cilantro-Lime White Rice   \n",
       "Tomatillo-Green Chili Salsa (Medium)  Cilantro-Lime White Rice   \n",
       "Tomatillo-Red Chili Salsa (Hot)       Cilantro-Lime White Rice   \n",
       "\n",
       "                                                             1           2  \\\n",
       "Adobo-Marinated and Grilled Chicken   Cilantro-Lime White Rice      Cheese   \n",
       "Adobo-Marinated and Grilled Steak                            -           -   \n",
       "Black Beans                                             Cheese  Sour Cream   \n",
       "Braised Barbacoa                      Cilantro-Lime White Rice      Cheese   \n",
       "Cheese                                              Sour Cream     Lettuce   \n",
       "Cilantro-Lime Brown Rice                                     -           -   \n",
       "Cilantro-Lime White Rice                            Sour Cream     Lettuce   \n",
       "Fajita Vegetables                                       Cheese     Lettuce   \n",
       "Fresh Tomato Salsa (Mild)                               Cheese  Sour Cream   \n",
       "Guacamole                                               Cheese  Sour Cream   \n",
       "Lettuce                                                 Cheese  Sour Cream   \n",
       "Pinto Beans                                             Cheese  Sour Cream   \n",
       "Roasted Chili Corn Salsa (Medium)                       Cheese  Sour Cream   \n",
       "Sour Cream                                              Cheese     Lettuce   \n",
       "Tomatillo-Green Chili Salsa (Medium)                    Cheese  Sour Cream   \n",
       "Tomatillo-Red Chili Salsa (Hot)                         Cheese     Lettuce   \n",
       "\n",
       "                                                              3  4  5  6  7  \n",
       "Adobo-Marinated and Grilled Chicken                           -  -  -  -  -  \n",
       "Adobo-Marinated and Grilled Steak                             -  -  -  -  -  \n",
       "Black Beans                                                   -  -  -  -  -  \n",
       "Braised Barbacoa                                              -  -  -  -  -  \n",
       "Cheese                                Fresh Tomato Salsa (Mild)  -  -  -  -  \n",
       "Cilantro-Lime Brown Rice                                      -  -  -  -  -  \n",
       "Cilantro-Lime White Rice                            Black Beans  -  -  -  -  \n",
       "Fajita Vegetables                                             -  -  -  -  -  \n",
       "Fresh Tomato Salsa (Mild)                                     -  -  -  -  -  \n",
       "Guacamole                                               Lettuce  -  -  -  -  \n",
       "Lettuce                                                       -  -  -  -  -  \n",
       "Pinto Beans                           Fresh Tomato Salsa (Mild)  -  -  -  -  \n",
       "Roasted Chili Corn Salsa (Medium)                             -  -  -  -  -  \n",
       "Sour Cream                            Fresh Tomato Salsa (Mild)  -  -  -  -  \n",
       "Tomatillo-Green Chili Salsa (Medium)                          -  -  -  -  -  \n",
       "Tomatillo-Red Chili Salsa (Hot)                               -  -  -  -  -  "
      ]
     },
     "execution_count": 1054,
     "metadata": {},
     "output_type": "execute_result"
    }
   ],
   "source": [
    "#place recommended toppings in a pd.df\n",
    "benchmark = pairTable.describe().loc['75%'] #toggle 25%, 50%, or 75%\n",
    "recThese = pd.DataFrame([], index=uniqueToppings, columns=np.arange(8))\n",
    "for cTopping in uniqueToppings:\n",
    "    recThese.loc[cTopping] = pd.Series(pairTable[cTopping][pairTable[cTopping]>=benchmark[cTopping]].sort_values(ascending=False).index)\n",
    "#insert toppings category for further analysis later\n",
    "toppingsCat = ['mains','mains','grains','mains','extras','grains','grains','grains','Salsa - extras','extras','extras','grains','Salsa - extras','extras','Salsa - extras','Salsa - extras']\n",
    "recThese.insert(0, 'cat', toppingsCat)\n",
    "#format for easier viewing\n",
    "recThese.fillna('-')"
   ]
  },
  {
   "cell_type": "markdown",
   "metadata": {},
   "source": [
    "### recThese filter by toppings category"
   ]
  },
  {
   "cell_type": "code",
   "execution_count": 1056,
   "metadata": {},
   "outputs": [
    {
     "data": {
      "text/html": [
       "<div>\n",
       "<style scoped>\n",
       "    .dataframe tbody tr th:only-of-type {\n",
       "        vertical-align: middle;\n",
       "    }\n",
       "\n",
       "    .dataframe tbody tr th {\n",
       "        vertical-align: top;\n",
       "    }\n",
       "\n",
       "    .dataframe thead th {\n",
       "        text-align: right;\n",
       "    }\n",
       "</style>\n",
       "<table border=\"1\" class=\"dataframe\">\n",
       "  <thead>\n",
       "    <tr style=\"text-align: right;\">\n",
       "      <th></th>\n",
       "      <th>cat</th>\n",
       "      <th>0</th>\n",
       "      <th>1</th>\n",
       "      <th>2</th>\n",
       "      <th>3</th>\n",
       "      <th>4</th>\n",
       "      <th>5</th>\n",
       "      <th>6</th>\n",
       "      <th>7</th>\n",
       "    </tr>\n",
       "  </thead>\n",
       "  <tbody>\n",
       "    <tr>\n",
       "      <th>Fresh Tomato Salsa (Mild)</th>\n",
       "      <td>Salsa - extras</td>\n",
       "      <td>Cilantro-Lime White Rice</td>\n",
       "      <td>Cheese</td>\n",
       "      <td>Sour Cream</td>\n",
       "      <td>-</td>\n",
       "      <td>-</td>\n",
       "      <td>-</td>\n",
       "      <td>-</td>\n",
       "      <td>-</td>\n",
       "    </tr>\n",
       "    <tr>\n",
       "      <th>Roasted Chili Corn Salsa (Medium)</th>\n",
       "      <td>Salsa - extras</td>\n",
       "      <td>Cilantro-Lime White Rice</td>\n",
       "      <td>Cheese</td>\n",
       "      <td>Sour Cream</td>\n",
       "      <td>-</td>\n",
       "      <td>-</td>\n",
       "      <td>-</td>\n",
       "      <td>-</td>\n",
       "      <td>-</td>\n",
       "    </tr>\n",
       "    <tr>\n",
       "      <th>Tomatillo-Green Chili Salsa (Medium)</th>\n",
       "      <td>Salsa - extras</td>\n",
       "      <td>Cilantro-Lime White Rice</td>\n",
       "      <td>Cheese</td>\n",
       "      <td>Sour Cream</td>\n",
       "      <td>-</td>\n",
       "      <td>-</td>\n",
       "      <td>-</td>\n",
       "      <td>-</td>\n",
       "      <td>-</td>\n",
       "    </tr>\n",
       "    <tr>\n",
       "      <th>Tomatillo-Red Chili Salsa (Hot)</th>\n",
       "      <td>Salsa - extras</td>\n",
       "      <td>Cilantro-Lime White Rice</td>\n",
       "      <td>Cheese</td>\n",
       "      <td>Lettuce</td>\n",
       "      <td>-</td>\n",
       "      <td>-</td>\n",
       "      <td>-</td>\n",
       "      <td>-</td>\n",
       "      <td>-</td>\n",
       "    </tr>\n",
       "  </tbody>\n",
       "</table>\n",
       "</div>"
      ],
      "text/plain": [
       "                                                 cat  \\\n",
       "Fresh Tomato Salsa (Mild)             Salsa - extras   \n",
       "Roasted Chili Corn Salsa (Medium)     Salsa - extras   \n",
       "Tomatillo-Green Chili Salsa (Medium)  Salsa - extras   \n",
       "Tomatillo-Red Chili Salsa (Hot)       Salsa - extras   \n",
       "\n",
       "                                                             0       1  \\\n",
       "Fresh Tomato Salsa (Mild)             Cilantro-Lime White Rice  Cheese   \n",
       "Roasted Chili Corn Salsa (Medium)     Cilantro-Lime White Rice  Cheese   \n",
       "Tomatillo-Green Chili Salsa (Medium)  Cilantro-Lime White Rice  Cheese   \n",
       "Tomatillo-Red Chili Salsa (Hot)       Cilantro-Lime White Rice  Cheese   \n",
       "\n",
       "                                               2  3  4  5  6  7  \n",
       "Fresh Tomato Salsa (Mild)             Sour Cream  -  -  -  -  -  \n",
       "Roasted Chili Corn Salsa (Medium)     Sour Cream  -  -  -  -  -  \n",
       "Tomatillo-Green Chili Salsa (Medium)  Sour Cream  -  -  -  -  -  \n",
       "Tomatillo-Red Chili Salsa (Hot)          Lettuce  -  -  -  -  -  "
      ]
     },
     "execution_count": 1056,
     "metadata": {},
     "output_type": "execute_result"
    }
   ],
   "source": [
    "### recommended topping pairings filtered by category ###\n",
    "whatCat = 'Salsa' #'mains' 'grains' 'extras' 'Salsa'\n",
    "recThese[recThese.cat.str.contains(whatCat)].fillna('-') # 'mains' 'grains' 'extras' 'Salsa'"
   ]
  },
  {
   "cell_type": "markdown",
   "metadata": {},
   "source": [
    "### Findings\n",
    "2) As seen above, Cilantro-Lime White Rice, Cheese and Sour Cream are highly commonly ordered. Even taking them out of consideration, the next set of recommended toppings are the same. Data is useful for catching missed toppings or upselling, but not recommendation for new topping pairings. Recommend to introduce and recommend other (seasonal) toppings.\n",
    "\n",
    "### Visualising toppings ordered"
   ]
  },
  {
   "cell_type": "code",
   "execution_count": 1048,
   "metadata": {},
   "outputs": [
    {
     "data": {
      "image/png": "[encoded data removed]",
      "text/plain": [
       "<matplotlib.figure.Figure at 0x114415ef0>"
      ]
     },
     "metadata": {},
     "output_type": "display_data"
    }
   ],
   "source": [
    "import matplotlib.pyplot as plt\n",
    "%matplotlib inline\n",
    "\n",
    "countToppings = pd.Series(toppings.values.flatten()).value_counts()\n",
    "plt.bar(countToppings.index,countToppings,)\n",
    "plt.xticks(rotation=90)\n",
    "plt.show()"
   ]
  },
  {
   "cell_type": "markdown",
   "metadata": {},
   "source": [
    "### Findings\n",
    "3) As seen above, Adobo-Marinated and Grilled Chicken, Adobo-Marinated and Grilled Steak, Braised Barbacoa, Cilantro-Lime Brown Rice shows [very few orders](http://localhost:8888/notebooks/unit-2_project-master/chipotle.ipynb#Visualising-toppings-ordered) compared to other toppings. If these are not newly introduced items, recommend to check data collection. If data integrity is intact, suggest to introduce alternatives (like mixed grain rice), promote poorly selling items, and/or source for better distributors for popular items."
   ]
  }
 ],
 "metadata": {
  "anaconda-cloud": {},
  "kernelspec": {
   "display_name": "Python 3",
   "language": "python",
   "name": "python3"
  },
  "language_info": {
   "codemirror_mode": {
    "name": "ipython",
    "version": 3
   },
   "file_extension": ".py",
   "mimetype": "text/x-python",
   "name": "python",
   "nbconvert_exporter": "python",
   "pygments_lexer": "ipython3",
   "version": "3.6.5"
  }
 },
 "nbformat": 4,
 "nbformat_minor": 2
}
