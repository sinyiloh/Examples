{
 "cells": [
  {
   "cell_type": "markdown",
   "metadata": {},
   "source": [
    "![](http://www.forkscorksandkegs.com/wp-content/uploads/2012/06/Banner-Vineyard-927x282.png)\n",
    "# Wine Quality Predictor\n",
    "\n",
    "## 1. Introduction\n",
    "\n",
    "**1.1) Problem Statement**\n",
    "\n",
    "Predict the quality of wine based on chemical properties.\n",
    "\n",
    "**1.2) Use Cases**\n",
    "\n",
    "The machine learn algorithm can help wineries during the maturity process of the wine to balance certain chemicals in order to improve the wine quality. \n",
    "\n",
    "**1.3) Exclusions** \n",
    "\n",
    "There are other features important to consider when producing wine that are not contemplated on this study such season weather, soil conditions, harvest date, aging, grape type, etc. \n",
    "\n",
    "**1.4) Original Idea**\n",
    "\n",
    "The original idea for this project came from the [Analytics Vidhya blog](https://www.analyticsvidhya.com/blog/2018/05/24-ultimate-data-science-projects-to-boost-your-knowledge-and-skills/) post containing ideas for Machine Learning Projects.\n",
    "\n",
    "## 2. The Dataset\n",
    "\n",
    "The data set containing the chemical properties (measured by lab) and the respective overall quality (assessed by wine experts) for respectively 1599 red wines.\n",
    "\n",
    "The data sets contain the following information:\n",
    "\n",
    "|Property|Description|\n",
    "|--:|:--|\n",
    "|Fixed Acidity |Most acids involved with wine or fixed or nonvolatile (do not evaporate readily).|\n",
    "|Volatile Acidity|The amount of acetic acid in wine, which at too high of levels can lead to an unpleasant, vinegar taste.\n",
    "|Citric Acidity|Found in small quantities, citric acid can add 'freshness' and flavor to wines.\n",
    "|Residual Sugar|Amount of sugar remaining after fermentation stops, it's rare to find wines with less than 1 gram/liter and wines with greater than 45 grams/liter are considered sweet.\n",
    "|Chlorides|The Amount of salt in the wine.\n",
    "|Free Sulfur Dioxide|The free form of SO2 exists in equilibrium between molecular SO2 (as a dissolved gas) and bisulfite ion; it prevents microbial growth and the oxidation of wine.\n",
    "|Total Sulfur Dioxide|Amount of free and bound forms of S02; in low concentrations, SO2 is mostly undetectable in wine, but at free SO2 concentrations over 50 ppm, SO2 becomes evident in the nose and taste of wine.\n",
    "|Density|The density of water is close to that of water depending on the percent alcohol and sugar content.\n",
    "|pH|How acidic or basic a wine is on a scale from 0 (very acidic) to 14 (very basic); most wines are between 3-4 on the pH scale.\n",
    "|Sulphates|A wine additive which can contribute to sulfur dioxide gas (S02) levels, which acts as an antimicrobial and antioxidant.\n",
    "|Alcohol|The percent alcohol content of the wine.\n",
    "|Quality|The overall quality of the wine classified by a wine expert.\n",
    "\n",
    "Data set link: [Kaggle](https://www.kaggle.com/uciml/red-wine-quality-cortez-et-al-2009)\n"
   ]
  },
  {
   "cell_type": "markdown",
   "metadata": {},
   "source": [
    "## 3. Exploratory Data Analysis (EDA)"
   ]
  },
  {
   "cell_type": "markdown",
   "metadata": {},
   "source": [
    "### Introduction\n",
    "\n",
    "Since both red and white wines can potentially have different properties, we'll be splitting the analysis into two dinstinct datasets. At the end, we'll be drawing conclusions on how we approach the Red/White wines quality analysis distinctively."
   ]
  },
  {
   "cell_type": "code",
   "execution_count": 449,
   "metadata": {},
   "outputs": [],
   "source": [
    "# import necessary libs for EDA\n",
    "import pandas as pd\n",
    "import matplotlib.pyplot as plt\n",
    "import numpy as np\n",
    "import seaborn as sns\n",
    "%matplotlib inline\n"
   ]
  },
  {
   "cell_type": "markdown",
   "metadata": {},
   "source": [
    "### Load Dataset"
   ]
  },
  {
   "cell_type": "code",
   "execution_count": 452,
   "metadata": {},
   "outputs": [],
   "source": [
    "# Load dataset\n",
    "wine = pd.read_csv('./datasets/winequality-red.csv')"
   ]
  },
  {
   "cell_type": "code",
   "execution_count": 453,
   "metadata": {},
   "outputs": [
    {
     "name": "stdout",
     "output_type": "stream",
     "text": [
      "<class 'pandas.core.frame.DataFrame'>\n",
      "RangeIndex: 1599 entries, 0 to 1598\n",
      "Data columns (total 12 columns):\n",
      "fixed_acidity           1599 non-null float64\n",
      "volatile_acidity        1599 non-null float64\n",
      "citric_acid             1599 non-null float64\n",
      "residual_sugar          1599 non-null float64\n",
      "chlorides               1599 non-null float64\n",
      "free_sulfur_dioxide     1599 non-null float64\n",
      "total_sulfur_dioxide    1599 non-null float64\n",
      "density                 1599 non-null float64\n",
      "pH                      1599 non-null float64\n",
      "sulphates               1599 non-null float64\n",
      "alcohol                 1599 non-null float64\n",
      "quality                 1599 non-null int64\n",
      "dtypes: float64(11), int64(1)\n",
      "memory usage: 150.0 KB\n"
     ]
    }
   ],
   "source": [
    "# With info() we'll quickly check a summary of:\n",
    "# 1. Data volume (number rows)\n",
    "# 2. The data types (check if there's any need of data type conversion)\n",
    "# 3. The atributes or columns in the data frame\n",
    "wine.info()"
   ]
  },
  {
   "cell_type": "code",
   "execution_count": 454,
   "metadata": {},
   "outputs": [
    {
     "data": {
      "text/html": [
       "<div>\n",
       "<style scoped>\n",
       "    .dataframe tbody tr th:only-of-type {\n",
       "        vertical-align: middle;\n",
       "    }\n",
       "\n",
       "    .dataframe tbody tr th {\n",
       "        vertical-align: top;\n",
       "    }\n",
       "\n",
       "    .dataframe thead th {\n",
       "        text-align: right;\n",
       "    }\n",
       "</style>\n",
       "<table border=\"1\" class=\"dataframe\">\n",
       "  <thead>\n",
       "    <tr style=\"text-align: right;\">\n",
       "      <th></th>\n",
       "      <th>fixed_acidity</th>\n",
       "      <th>volatile_acidity</th>\n",
       "      <th>citric_acid</th>\n",
       "      <th>residual_sugar</th>\n",
       "      <th>chlorides</th>\n",
       "      <th>free_sulfur_dioxide</th>\n",
       "      <th>total_sulfur_dioxide</th>\n",
       "      <th>density</th>\n",
       "      <th>pH</th>\n",
       "      <th>sulphates</th>\n",
       "      <th>alcohol</th>\n",
       "      <th>quality</th>\n",
       "    </tr>\n",
       "  </thead>\n",
       "  <tbody>\n",
       "    <tr>\n",
       "      <th>0</th>\n",
       "      <td>7.4</td>\n",
       "      <td>0.70</td>\n",
       "      <td>0.00</td>\n",
       "      <td>1.9</td>\n",
       "      <td>0.076</td>\n",
       "      <td>11.0</td>\n",
       "      <td>34.0</td>\n",
       "      <td>0.9978</td>\n",
       "      <td>3.51</td>\n",
       "      <td>0.56</td>\n",
       "      <td>9.4</td>\n",
       "      <td>5</td>\n",
       "    </tr>\n",
       "    <tr>\n",
       "      <th>4</th>\n",
       "      <td>7.4</td>\n",
       "      <td>0.70</td>\n",
       "      <td>0.00</td>\n",
       "      <td>1.9</td>\n",
       "      <td>0.076</td>\n",
       "      <td>11.0</td>\n",
       "      <td>34.0</td>\n",
       "      <td>0.9978</td>\n",
       "      <td>3.51</td>\n",
       "      <td>0.56</td>\n",
       "      <td>9.4</td>\n",
       "      <td>5</td>\n",
       "    </tr>\n",
       "    <tr>\n",
       "      <th>9</th>\n",
       "      <td>7.5</td>\n",
       "      <td>0.50</td>\n",
       "      <td>0.36</td>\n",
       "      <td>6.1</td>\n",
       "      <td>0.071</td>\n",
       "      <td>17.0</td>\n",
       "      <td>102.0</td>\n",
       "      <td>0.9978</td>\n",
       "      <td>3.35</td>\n",
       "      <td>0.80</td>\n",
       "      <td>10.5</td>\n",
       "      <td>5</td>\n",
       "    </tr>\n",
       "    <tr>\n",
       "      <th>11</th>\n",
       "      <td>7.5</td>\n",
       "      <td>0.50</td>\n",
       "      <td>0.36</td>\n",
       "      <td>6.1</td>\n",
       "      <td>0.071</td>\n",
       "      <td>17.0</td>\n",
       "      <td>102.0</td>\n",
       "      <td>0.9978</td>\n",
       "      <td>3.35</td>\n",
       "      <td>0.80</td>\n",
       "      <td>10.5</td>\n",
       "      <td>5</td>\n",
       "    </tr>\n",
       "    <tr>\n",
       "      <th>22</th>\n",
       "      <td>7.9</td>\n",
       "      <td>0.43</td>\n",
       "      <td>0.21</td>\n",
       "      <td>1.6</td>\n",
       "      <td>0.106</td>\n",
       "      <td>10.0</td>\n",
       "      <td>37.0</td>\n",
       "      <td>0.9966</td>\n",
       "      <td>3.17</td>\n",
       "      <td>0.91</td>\n",
       "      <td>9.5</td>\n",
       "      <td>5</td>\n",
       "    </tr>\n",
       "    <tr>\n",
       "      <th>27</th>\n",
       "      <td>7.9</td>\n",
       "      <td>0.43</td>\n",
       "      <td>0.21</td>\n",
       "      <td>1.6</td>\n",
       "      <td>0.106</td>\n",
       "      <td>10.0</td>\n",
       "      <td>37.0</td>\n",
       "      <td>0.9966</td>\n",
       "      <td>3.17</td>\n",
       "      <td>0.91</td>\n",
       "      <td>9.5</td>\n",
       "      <td>5</td>\n",
       "    </tr>\n",
       "  </tbody>\n",
       "</table>\n",
       "</div>"
      ],
      "text/plain": [
       "    fixed_acidity  volatile_acidity  citric_acid  residual_sugar  chlorides  \\\n",
       "0             7.4              0.70         0.00             1.9      0.076   \n",
       "4             7.4              0.70         0.00             1.9      0.076   \n",
       "9             7.5              0.50         0.36             6.1      0.071   \n",
       "11            7.5              0.50         0.36             6.1      0.071   \n",
       "22            7.9              0.43         0.21             1.6      0.106   \n",
       "27            7.9              0.43         0.21             1.6      0.106   \n",
       "\n",
       "    free_sulfur_dioxide  total_sulfur_dioxide  density    pH  sulphates  \\\n",
       "0                  11.0                  34.0   0.9978  3.51       0.56   \n",
       "4                  11.0                  34.0   0.9978  3.51       0.56   \n",
       "9                  17.0                 102.0   0.9978  3.35       0.80   \n",
       "11                 17.0                 102.0   0.9978  3.35       0.80   \n",
       "22                 10.0                  37.0   0.9966  3.17       0.91   \n",
       "27                 10.0                  37.0   0.9966  3.17       0.91   \n",
       "\n",
       "    alcohol  quality  \n",
       "0       9.4        5  \n",
       "4       9.4        5  \n",
       "9      10.5        5  \n",
       "11     10.5        5  \n",
       "22      9.5        5  \n",
       "27      9.5        5  "
      ]
     },
     "execution_count": 454,
     "metadata": {},
     "output_type": "execute_result"
    }
   ],
   "source": [
    "# Check for duplicates - On this case it seems to be duplicates (trimmed below) but these are different Wines\n",
    "# with exact same attributes.\n",
    "wine[wine.duplicated(keep=False)].head(6)"
   ]
  },
  {
   "cell_type": "code",
   "execution_count": 638,
   "metadata": {},
   "outputs": [],
   "source": [
    "# We will drop the \"duplicates\" because for our study it's not relevant to have multiple samples of wines\n",
    "# with the exactly same attributes.\n",
    "wine = wine.drop_duplicates(subset=None, keep=\"first\", inplace=False)"
   ]
  },
  {
   "cell_type": "code",
   "execution_count": 639,
   "metadata": {},
   "outputs": [
    {
     "data": {
      "text/plain": [
       "(1359, 12)"
      ]
     },
     "execution_count": 639,
     "metadata": {},
     "output_type": "execute_result"
    }
   ],
   "source": [
    "# Check new record size\n",
    "wine.shape"
   ]
  },
  {
   "cell_type": "code",
   "execution_count": 457,
   "metadata": {},
   "outputs": [
    {
     "data": {
      "text/html": [
       "<div>\n",
       "<style scoped>\n",
       "    .dataframe tbody tr th:only-of-type {\n",
       "        vertical-align: middle;\n",
       "    }\n",
       "\n",
       "    .dataframe tbody tr th {\n",
       "        vertical-align: top;\n",
       "    }\n",
       "\n",
       "    .dataframe thead th {\n",
       "        text-align: right;\n",
       "    }\n",
       "</style>\n",
       "<table border=\"1\" class=\"dataframe\">\n",
       "  <thead>\n",
       "    <tr style=\"text-align: right;\">\n",
       "      <th></th>\n",
       "      <th>fixed_acidity</th>\n",
       "      <th>volatile_acidity</th>\n",
       "      <th>citric_acid</th>\n",
       "      <th>residual_sugar</th>\n",
       "      <th>chlorides</th>\n",
       "      <th>free_sulfur_dioxide</th>\n",
       "      <th>total_sulfur_dioxide</th>\n",
       "      <th>density</th>\n",
       "      <th>pH</th>\n",
       "      <th>sulphates</th>\n",
       "      <th>alcohol</th>\n",
       "      <th>quality</th>\n",
       "    </tr>\n",
       "  </thead>\n",
       "  <tbody>\n",
       "    <tr>\n",
       "      <th>count</th>\n",
       "      <td>1359.000000</td>\n",
       "      <td>1359.000000</td>\n",
       "      <td>1359.000000</td>\n",
       "      <td>1359.000000</td>\n",
       "      <td>1359.000000</td>\n",
       "      <td>1359.000000</td>\n",
       "      <td>1359.000000</td>\n",
       "      <td>1359.000000</td>\n",
       "      <td>1359.000000</td>\n",
       "      <td>1359.000000</td>\n",
       "      <td>1359.000000</td>\n",
       "      <td>1359.000000</td>\n",
       "    </tr>\n",
       "    <tr>\n",
       "      <th>mean</th>\n",
       "      <td>8.310596</td>\n",
       "      <td>0.529478</td>\n",
       "      <td>0.272333</td>\n",
       "      <td>2.523400</td>\n",
       "      <td>0.088124</td>\n",
       "      <td>15.893304</td>\n",
       "      <td>46.825975</td>\n",
       "      <td>0.996709</td>\n",
       "      <td>3.309787</td>\n",
       "      <td>0.658705</td>\n",
       "      <td>10.432315</td>\n",
       "      <td>5.623252</td>\n",
       "    </tr>\n",
       "    <tr>\n",
       "      <th>std</th>\n",
       "      <td>1.736990</td>\n",
       "      <td>0.183031</td>\n",
       "      <td>0.195537</td>\n",
       "      <td>1.352314</td>\n",
       "      <td>0.049377</td>\n",
       "      <td>10.447270</td>\n",
       "      <td>33.408946</td>\n",
       "      <td>0.001869</td>\n",
       "      <td>0.155036</td>\n",
       "      <td>0.170667</td>\n",
       "      <td>1.082065</td>\n",
       "      <td>0.823578</td>\n",
       "    </tr>\n",
       "    <tr>\n",
       "      <th>min</th>\n",
       "      <td>4.600000</td>\n",
       "      <td>0.120000</td>\n",
       "      <td>0.000000</td>\n",
       "      <td>0.900000</td>\n",
       "      <td>0.012000</td>\n",
       "      <td>1.000000</td>\n",
       "      <td>6.000000</td>\n",
       "      <td>0.990070</td>\n",
       "      <td>2.740000</td>\n",
       "      <td>0.330000</td>\n",
       "      <td>8.400000</td>\n",
       "      <td>3.000000</td>\n",
       "    </tr>\n",
       "    <tr>\n",
       "      <th>25%</th>\n",
       "      <td>7.100000</td>\n",
       "      <td>0.390000</td>\n",
       "      <td>0.090000</td>\n",
       "      <td>1.900000</td>\n",
       "      <td>0.070000</td>\n",
       "      <td>7.000000</td>\n",
       "      <td>22.000000</td>\n",
       "      <td>0.995600</td>\n",
       "      <td>3.210000</td>\n",
       "      <td>0.550000</td>\n",
       "      <td>9.500000</td>\n",
       "      <td>5.000000</td>\n",
       "    </tr>\n",
       "    <tr>\n",
       "      <th>50%</th>\n",
       "      <td>7.900000</td>\n",
       "      <td>0.520000</td>\n",
       "      <td>0.260000</td>\n",
       "      <td>2.200000</td>\n",
       "      <td>0.079000</td>\n",
       "      <td>14.000000</td>\n",
       "      <td>38.000000</td>\n",
       "      <td>0.996700</td>\n",
       "      <td>3.310000</td>\n",
       "      <td>0.620000</td>\n",
       "      <td>10.200000</td>\n",
       "      <td>6.000000</td>\n",
       "    </tr>\n",
       "    <tr>\n",
       "      <th>75%</th>\n",
       "      <td>9.200000</td>\n",
       "      <td>0.640000</td>\n",
       "      <td>0.430000</td>\n",
       "      <td>2.600000</td>\n",
       "      <td>0.091000</td>\n",
       "      <td>21.000000</td>\n",
       "      <td>63.000000</td>\n",
       "      <td>0.997820</td>\n",
       "      <td>3.400000</td>\n",
       "      <td>0.730000</td>\n",
       "      <td>11.100000</td>\n",
       "      <td>6.000000</td>\n",
       "    </tr>\n",
       "    <tr>\n",
       "      <th>max</th>\n",
       "      <td>15.900000</td>\n",
       "      <td>1.580000</td>\n",
       "      <td>1.000000</td>\n",
       "      <td>15.500000</td>\n",
       "      <td>0.611000</td>\n",
       "      <td>72.000000</td>\n",
       "      <td>289.000000</td>\n",
       "      <td>1.003690</td>\n",
       "      <td>4.010000</td>\n",
       "      <td>2.000000</td>\n",
       "      <td>14.900000</td>\n",
       "      <td>8.000000</td>\n",
       "    </tr>\n",
       "  </tbody>\n",
       "</table>\n",
       "</div>"
      ],
      "text/plain": [
       "       fixed_acidity  volatile_acidity  citric_acid  residual_sugar  \\\n",
       "count    1359.000000       1359.000000  1359.000000     1359.000000   \n",
       "mean        8.310596          0.529478     0.272333        2.523400   \n",
       "std         1.736990          0.183031     0.195537        1.352314   \n",
       "min         4.600000          0.120000     0.000000        0.900000   \n",
       "25%         7.100000          0.390000     0.090000        1.900000   \n",
       "50%         7.900000          0.520000     0.260000        2.200000   \n",
       "75%         9.200000          0.640000     0.430000        2.600000   \n",
       "max        15.900000          1.580000     1.000000       15.500000   \n",
       "\n",
       "         chlorides  free_sulfur_dioxide  total_sulfur_dioxide      density  \\\n",
       "count  1359.000000          1359.000000           1359.000000  1359.000000   \n",
       "mean      0.088124            15.893304             46.825975     0.996709   \n",
       "std       0.049377            10.447270             33.408946     0.001869   \n",
       "min       0.012000             1.000000              6.000000     0.990070   \n",
       "25%       0.070000             7.000000             22.000000     0.995600   \n",
       "50%       0.079000            14.000000             38.000000     0.996700   \n",
       "75%       0.091000            21.000000             63.000000     0.997820   \n",
       "max       0.611000            72.000000            289.000000     1.003690   \n",
       "\n",
       "                pH    sulphates      alcohol      quality  \n",
       "count  1359.000000  1359.000000  1359.000000  1359.000000  \n",
       "mean      3.309787     0.658705    10.432315     5.623252  \n",
       "std       0.155036     0.170667     1.082065     0.823578  \n",
       "min       2.740000     0.330000     8.400000     3.000000  \n",
       "25%       3.210000     0.550000     9.500000     5.000000  \n",
       "50%       3.310000     0.620000    10.200000     6.000000  \n",
       "75%       3.400000     0.730000    11.100000     6.000000  \n",
       "max       4.010000     2.000000    14.900000     8.000000  "
      ]
     },
     "execution_count": 457,
     "metadata": {},
     "output_type": "execute_result"
    }
   ],
   "source": [
    "# Summary of the attributes to get an idea how the attributes value ranges and averages\n",
    "wine.describe()"
   ]
  },
  {
   "cell_type": "markdown",
   "metadata": {},
   "source": [
    "**Observation**\n",
    "\n",
    "An important observation are the quality attributes. The wines rate from 0-10, which zero is the worst and 10 the best.\n",
    "\n",
    "* Highest: 8 \n",
    "* Mean: 5.63\n",
    "* Lowest: 3\n",
    "\n",
    "I have defined the following qualitiative criteria:\n",
    "\n",
    "\n",
    "|Rating |Description     |\n",
    "|------:|:---------------|\n",
    "|1      | Demolish       |\n",
    "|2      | Horrible       |\n",
    "|3      | Terrible       |\n",
    "|4      | Bad            |\n",
    "|5      | OK             |\n",
    "|6      | Good           |\n",
    "|7      | Very Good      |\n",
    "|8      | Great          |\n",
    "|9      | Excellent      |\n",
    "|10     | Perfect        |\n",
    "\n",
    "This being said, since the **average red wine quality is 5.63** we can say the great majority of the samples the wine are \"OK\"."
   ]
  },
  {
   "cell_type": "code",
   "execution_count": 399,
   "metadata": {},
   "outputs": [
    {
     "data": {
      "text/plain": [
       "fixed_acidity           0\n",
       "volatile_acidity        0\n",
       "citric_acid             0\n",
       "residual_sugar          0\n",
       "chlorides               0\n",
       "free_sulfur_dioxide     0\n",
       "total_sulfur_dioxide    0\n",
       "density                 0\n",
       "pH                      0\n",
       "sulphates               0\n",
       "alcohol                 0\n",
       "quality                 0\n",
       "dtype: int64"
      ]
     },
     "execution_count": 399,
     "metadata": {},
     "output_type": "execute_result"
    }
   ],
   "source": [
    "# Let's check if there's any null value - None on this case\n",
    "wine.isnull().sum()"
   ]
  },
  {
   "cell_type": "code",
   "execution_count": 400,
   "metadata": {},
   "outputs": [
    {
     "data": {
      "image/png": "[encoded data removed]",
      "text/plain": [
       "<matplotlib.figure.Figure at 0x239743827b8>"
      ]
     },
     "metadata": {},
     "output_type": "display_data"
    }
   ],
   "source": [
    "# Visualize the quality of the Red Wines in the dataset\n",
    "num_bins = 15\n",
    "plt.xlabel('Rating')\n",
    "plt.ylabel('Count')\n",
    "plt.title('Histogram - Red Wine Quality')\n",
    "plt.hist(wine['quality'], bins=num_bins, facecolor='red')\n",
    "plt.show()"
   ]
  },
  {
   "cell_type": "markdown",
   "metadata": {},
   "source": [
    "### important Note!\n",
    "\n",
    "As you can see below, the dataset is severely **unbalanced**. Unbalanced datasets tend to produce unsatisfactory predictions.\n"
   ]
  },
  {
   "cell_type": "code",
   "execution_count": 458,
   "metadata": {},
   "outputs": [
    {
     "data": {
      "text/plain": [
       "quality\n",
       "3     10\n",
       "4     53\n",
       "5    577\n",
       "6    535\n",
       "7    167\n",
       "8     17\n",
       "Name: quality, dtype: int64"
      ]
     },
     "execution_count": 458,
     "metadata": {},
     "output_type": "execute_result"
    }
   ],
   "source": [
    "# Count per Rate (table view)\n",
    "wine.groupby(['quality'])['quality'].count()"
   ]
  },
  {
   "cell_type": "code",
   "execution_count": 402,
   "metadata": {},
   "outputs": [
    {
     "data": {
      "image/png": "[encoded data removed]",
      "text/plain": [
       "<matplotlib.figure.Figure at 0x23979bae128>"
      ]
     },
     "metadata": {},
     "output_type": "display_data"
    }
   ],
   "source": [
    "# Next, we'll produce a correlation heatmap. We expect to observe which red wine features\n",
    "# are strongly correlated with the Quality.\n",
    "bogus_col = ['A','B','C','D','E','F','G','H', 'I', 'J', 'K', 'L']\n",
    "bogus_data = np.random.randn(12,12)\n",
    "bogus_df = pd.DataFrame(bogus_data, columns=bogus_col)\n",
    "mask = np.triu(np.ones(bogus_df.shape)).astype(np.bool)\n",
    "plt.subplots(figsize=(16,9))\n",
    "plt.title('Feature Correlation')\n",
    "sns.heatmap(data=wine.corr().round(2), mask=mask, cmap='coolwarm', annot=True, square=True, linewidths=1.5)\n",
    "plt.show()\n"
   ]
  },
  {
   "cell_type": "markdown",
   "metadata": {},
   "source": [
    "### Observations\n",
    "\n",
    "We can observe that strongest feature correlations with the \"Quality\" are:\n",
    "\n",
    "1. Alcohol (+0.48)\n",
    "2. Volatile Acidity (-0.40)\n",
    "3. Sulphates (+0.25)\n",
    "4. Citric Acid (+0.23)\n",
    "5. Total Sulfur Dioxide (-0.18)\n",
    "\n",
    "Other features such as \"Free Sulfur Dioxide\" and \"Residual Sugars\" have nearly zero correlation.\n",
    "\n",
    "It's also observable than the \"acidity\" features are strongly correlated with the \"pH\" - which by knowing elementary chemistry makes all the sense. However this is not our focus."
   ]
  },
  {
   "cell_type": "code",
   "execution_count": 403,
   "metadata": {},
   "outputs": [
    {
     "data": {
      "image/png": "[encoded data removed]",
      "text/plain": [
       "<matplotlib.figure.Figure at 0x2397436ef28>"
      ]
     },
     "metadata": {},
     "output_type": "display_data"
    }
   ],
   "source": [
    "# visualising the relationship between the Alcohol level and Quality\n",
    "plt.title(\"Alcohol x Quality\")\n",
    "plt.xlabel(\"Alcohol\")\n",
    "plt.ylabel(\"Quality\")\n",
    "plt.scatter(wine['alcohol'], wine['quality'], alpha=0.3)\n",
    "plt.show()"
   ]
  },
  {
   "cell_type": "code",
   "execution_count": 404,
   "metadata": {},
   "outputs": [
    {
     "data": {
      "image/png": "[encoded data removed]",
      "text/plain": [
       "<matplotlib.figure.Figure at 0x23979c693c8>"
      ]
     },
     "metadata": {},
     "output_type": "display_data"
    }
   ],
   "source": [
    "# Visualising the two featurs with strongest correlation with quality\n",
    "plt.rcParams['figure.figsize'] = (12, 9)\n",
    "plt.rcParams['font.size'] = 12\n",
    "sns.lmplot(x=\"alcohol\", y=\"volatile_acidity\", data=wine, hue=\"quality\", fit_reg=False, legend=True)\n",
    "plt.show()"
   ]
  },
  {
   "cell_type": "markdown",
   "metadata": {},
   "source": [
    "### Conclusions (EDA)"
   ]
  },
  {
   "cell_type": "markdown",
   "metadata": {},
   "source": [
    "A possible **shortcoming** is that in dataset seems **imbalanced**, both datasets lack samples of extremely low/high rating such as (1,2) and (9,10) therefore our model might not be accurately predict these quality ranges as we have no means to validate its accuracy since there are no samples with these ratings in the dataset. It is expected that as more data gets into to the data, the accuracy model improves by learning from new additions."
   ]
  },
  {
   "cell_type": "markdown",
   "metadata": {},
   "source": [
    "# 4. Feature Selection"
   ]
  },
  {
   "cell_type": "markdown",
   "metadata": {},
   "source": [
    "### What is Feature Selection?"
   ]
  },
  {
   "cell_type": "markdown",
   "metadata": {},
   "source": [
    "Feature selection is the process of finding and selecting the most relevant features to be used to solve our problem. Too little or too may features can impact the quality of the solution, therefore it's important to find a **good balance** of the features."
   ]
  },
  {
   "cell_type": "markdown",
   "metadata": {},
   "source": [
    "### Selection Criterias"
   ]
  },
  {
   "cell_type": "markdown",
   "metadata": {},
   "source": [
    "When selecting features it's importanto to consider the following:\n",
    "\n",
    "* Highly consider features (X) with high correlation to our target (y)\n",
    "* Avoid colinear features - Meaning features (X) that have a strong correlation between each other.\n",
    "* Avoid features with zero importance - Meaning, with very low or nearly zero correlation to our target feature (y)\n",
    "* Avoid features with high-number of missing values (not our case)"
   ]
  },
  {
   "cell_type": "markdown",
   "metadata": {},
   "source": [
    "### Method 1: Observing Correlations (Manual Selection)"
   ]
  },
  {
   "cell_type": "markdown",
   "metadata": {},
   "source": [
    "This method consists of observing the correlation between the features and select the features that seem to strongly correlate with our target feature. This method can work quite well on simple or low-complexity models. However it does open a door for introducing \"bias\" into our model as we might miss important pieces of information that are not easily observed by eye. \n",
    "\n",
    "By observing again our correlation heatmap, we have the following top-5 correlation:\n",
    "\n",
    "1. Alcohol (+0.48)\n",
    "2. Volatile Acidity (-0.40)\n",
    "3. Sulphates (+0.25)\n",
    "4. Citric Acid (+0.23)\n",
    "5. Total Sulfur Dioxide (-0.18)\n",
    "\n",
    "However if we do observe a little further we can also find-out that there are **colinear features** between these, such as:\n",
    "* volatile_acidity / citric_acidity (-0.55)\n",
    "\n",
    "Thefore maintaining simultaneously these two variables is not good as it affectives negatively our predictors. It is suggested to drop one of them, so in these case we would de-select the \"citric Acid\" as it's the weaknest from the list that correlates to our quality (y) parameter.\n",
    "\n",
    "**Manually Selected Features:**\n",
    "1. Alcohol (+0.48)\n",
    "2. Volatile Acidity (-0.40)\n",
    "3. Sulphates (+0.25)\n",
    "4. Total Sulfur Dioxide (-0.18)\n"
   ]
  },
  {
   "cell_type": "markdown",
   "metadata": {},
   "source": [
    "### Method 2: Feature Importance (Automatic Selection)\n",
    "\n",
    "This method makes use of the Scikit-Learn automated feature selection based on **Feature Importance**. We allow the scikit algorithm to make the decision of which features to use on our behalf. This method relies on making use of **decision trees** like Random Forrest to estimate the importance of our features.\n",
    "\n",
    "Reference: [Scikit Feature Selection](https://machinelearningmastery.com/feature-selection-in-python-with-scikit-learn/)\n",
    "\n"
   ]
  },
  {
   "cell_type": "code",
   "execution_count": 411,
   "metadata": {},
   "outputs": [],
   "source": [
    "# Feature Importance\n",
    "from sklearn import datasets\n",
    "from sklearn import metrics\n",
    "from sklearn.ensemble import ExtraTreesClassifier\n",
    "\n",
    "# load dataset\n",
    "X = wine.drop(['quality'], axis=1)\n",
    "y = wine['quality']"
   ]
  },
  {
   "cell_type": "code",
   "execution_count": 412,
   "metadata": {
    "scrolled": true
   },
   "outputs": [
    {
     "data": {
      "text/plain": [
       "<matplotlib.axes._subplots.AxesSubplot at 0x23970c65d30>"
      ]
     },
     "execution_count": 412,
     "metadata": {},
     "output_type": "execute_result"
    },
    {
     "data": {
      "image/png": "[encoded data removed]",
      "text/plain": [
       "<matplotlib.figure.Figure at 0x23979cb4e10>"
      ]
     },
     "metadata": {},
     "output_type": "display_data"
    }
   ],
   "source": [
    "# fit an Extra Trees model to the data\n",
    "model_fi = ExtraTreesClassifier()\n",
    "model_fi.fit(X, y)\n",
    "\n",
    "feat_importances = pd.Series(model_fi.feature_importances_, index=X.columns)\n",
    "feat_importances = feat_importances.nlargest(15)\n",
    "feat_importances.plot(kind='barh')"
   ]
  },
  {
   "cell_type": "markdown",
   "metadata": {},
   "source": [
    "As it can be visualised in the bar chart above, the  "
   ]
  },
  {
   "cell_type": "markdown",
   "metadata": {},
   "source": [
    "To summarise, please find our feature selection rank per method:\n",
    "\n",
    "\n",
    "| Feature             | Manual | Feat. Importance |\n",
    "|--------------------:|:------ |:----------------:|\n",
    "|Fixed Acidity        | N/A    | 8                |\n",
    "|Volatile Acidity     | 2      | 5                |\n",
    "|Citric Acidity       | N/A    | 6                |\n",
    "|Residual Sugar       | N/A    | 7                |\n",
    "|Chlorides            | N/A    | 9                |\n",
    "|Free Sulfur Dioxide  | N/A    | 10               |\n",
    "|Total Sulfur Dioxide | 4      | 2                |\n",
    "|Density              | N/A    | 4                |\n",
    "|pH                   | N/A    | 11               |\n",
    "|Sulphates            | 3      | 3                |\n",
    "|Alcohol              | 1      | 1                |\n",
    "\n",
    "\n",
    "\n",
    "\n"
   ]
  },
  {
   "cell_type": "markdown",
   "metadata": {},
   "source": [
    "**Summary** \n",
    "\n",
    "The selections differs per method. Further down, we'll be testing the 3 methods and see which produces the best result."
   ]
  },
  {
   "cell_type": "markdown",
   "metadata": {},
   "source": [
    "# 5. Model Selection  \n",
    "\n",
    "Since our target (y) value is a 10-point rating scale, we will treat this problem as a **classification problem**. However, Linear Regression would also work for what we are trying to achieve.\n",
    "\n",
    "Below we are going to test a few different models to know which one can workout better. We're going to start simple and then try more complex variations. "
   ]
  },
  {
   "cell_type": "markdown",
   "metadata": {},
   "source": [
    "### Model Resampling\n",
    "\n",
    "As the model is imbalanced, we are going going to apply some techniques to balance the dataset, namely:\n",
    "\n",
    "* Tomek: By undersampling the majority classes\n",
    "* SMOTE: By oversamling the minority classes\n",
    "* SMOTE+Tomek: Combination of both above"
   ]
  },
  {
   "cell_type": "code",
   "execution_count": 424,
   "metadata": {},
   "outputs": [],
   "source": [
    "from sklearn.model_selection import train_test_split\n",
    "\n",
    "# Split into training and test datasets\n",
    "X_train, X_test, y_train, y_test = train_test_split(X, y, train_size=0.75, test_size=0.25, random_state=42)"
   ]
  },
  {
   "cell_type": "code",
   "execution_count": 425,
   "metadata": {},
   "outputs": [],
   "source": [
    "from sklearn import metrics \n",
    "from collections import Counter\n",
    "from imblearn.over_sampling import SMOTE\n",
    "from imblearn.under_sampling import TomekLinks\n",
    "from sklearn.metrics import classification_report\n",
    "\n",
    "# Function for Model Resample with Tomek (Undersampling)\n",
    "def model_resample(X_train, X_test, y_train, y_test, model):\n",
    "    # TOMEK Links\n",
    "    sample = TomekLinks()\n",
    "    X_resampled, y_resampled = sample.fit_sample(X_train, y_train)\n",
    "    model.fit(X_resampled, y_resampled)    \n",
    "    predictions = model.predict(X_test)\n",
    "    \n",
    "    print(classification_report(y_test, predictions))\n",
    "    print(\"Kappa Coef:\", metrics.cohen_kappa_score(y_test, predictions, labels=None, weights=None, sample_weight=None))\n",
    "    \n",
    "    return True"
   ]
  },
  {
   "cell_type": "code",
   "execution_count": 426,
   "metadata": {},
   "outputs": [
    {
     "name": "stdout",
     "output_type": "stream",
     "text": [
      "Resampled DataFrame: (653, 12)\n",
      "X_resampled: (653, 11)\n",
      "y_resampled: (653,)\n"
     ]
    }
   ],
   "source": [
    "# New resampled DataFrame\n",
    "df_X = pd.DataFrame(X_resampled)\n",
    "df_y = pd.DataFrame(y_resampled)\n",
    "red_resampled = pd.concat([df_X, df_y], axis=1)\n",
    "\n",
    "red_resampled.columns = [\"fixed_acidity\", \"volatile_acidity\", \"citric_acid\", \"residual_sugar\", \n",
    "                 \"chlorides\", \"free_sulfur_dioxide\", \"total_sulfur_dioxide\", \"density\",\n",
    "                 \"pH\", \"sulphates\", \"alcohol\", \"quality\"]\n",
    "\n",
    "print(\"Resampled DataFrame:\", red_resampled.shape)\n",
    "print(\"X_resampled:\", X_resampled.shape)\n",
    "print(\"y_resampled:\", y_resampled.shape)"
   ]
  },
  {
   "cell_type": "code",
   "execution_count": 538,
   "metadata": {},
   "outputs": [
    {
     "data": {
      "image/png": "[encoded data removed]",
      "text/plain": [
       "<matplotlib.figure.Figure at 0x23979b00c50>"
      ]
     },
     "metadata": {},
     "output_type": "display_data"
    }
   ],
   "source": [
    "plt.xlabel('Rating')\n",
    "plt.ylabel('Count')\n",
    "plt.title('Resampling using Tomek')\n",
    "plt.hist([red['quality'], red_resampled['quality']], 5, label=['No Balance', 'Tomek'])\n",
    "plt.legend(loc='upper right')\n",
    "plt.show()"
   ]
  },
  {
   "cell_type": "markdown",
   "metadata": {},
   "source": [
    "### Logistic Regression"
   ]
  },
  {
   "cell_type": "code",
   "execution_count": 488,
   "metadata": {},
   "outputs": [
    {
     "name": "stdout",
     "output_type": "stream",
     "text": [
      "             precision    recall  f1-score   support\n",
      "\n",
      "          3       0.00      0.00      0.00         4\n",
      "          4       0.00      0.00      0.00        12\n",
      "          5       0.64      0.80      0.71       148\n",
      "          6       0.52      0.60      0.56       132\n",
      "          7       0.00      0.00      0.00        41\n",
      "          8       0.00      0.00      0.00         3\n",
      "\n",
      "avg / total       0.48      0.58      0.53       340\n",
      "\n",
      "Kappa Coef: 0.2906467632452764\n"
     ]
    }
   ],
   "source": [
    "# supress warnings due classes with zero score\n",
    "import warnings\n",
    "warnings.filterwarnings('ignore')\n",
    "\n",
    "model = LogisticRegression()\n",
    "results = model_resample(X_train, X_test, y_train, y_test, model)\n",
    "\n"
   ]
  },
  {
   "cell_type": "markdown",
   "metadata": {},
   "source": [
    "### Random Forrest Classifier"
   ]
  },
  {
   "cell_type": "code",
   "execution_count": 489,
   "metadata": {},
   "outputs": [
    {
     "name": "stdout",
     "output_type": "stream",
     "text": [
      "             precision    recall  f1-score   support\n",
      "\n",
      "          3       0.00      0.00      0.00         4\n",
      "          4       0.00      0.00      0.00        12\n",
      "          5       0.69      0.74      0.71       148\n",
      "          6       0.55      0.67      0.61       132\n",
      "          7       0.65      0.32      0.43        41\n",
      "          8       0.00      0.00      0.00         3\n",
      "\n",
      "avg / total       0.59      0.62      0.60       340\n",
      "\n",
      "Kappa Coef: 0.3733927653008744\n"
     ]
    }
   ],
   "source": [
    "# supress warnings due classes with zero score\n",
    "import warnings\n",
    "warnings.filterwarnings('ignore')\n",
    "\n",
    "model = RandomForestClassifier(bootstrap=False, criterion=\"gini\", \n",
    "                               max_features=0.4, min_samples_leaf=7, \n",
    "                               min_samples_split=14, n_estimators=100)\n",
    "\n",
    "results = model_resample(X_train, X_test, y_train, y_test, model)\n"
   ]
  },
  {
   "cell_type": "markdown",
   "metadata": {},
   "source": [
    "### K-Nearest Neighbors (KNN)"
   ]
  },
  {
   "cell_type": "code",
   "execution_count": 515,
   "metadata": {},
   "outputs": [
    {
     "name": "stdout",
     "output_type": "stream",
     "text": [
      "The Best K-values:\n",
      "\n",
      "k-value: 22 Accuracy: 0.53235\n",
      "k-value: 22 Precision: 0.50564\n",
      "k-value: 22 Recall: 0.53235\n",
      "k-value: 22 F1: 0.49897\n",
      "k-value: 22 Kappa: 0.2141\n",
      "CV: 0.52641\n"
     ]
    }
   ],
   "source": [
    "from sklearn.metrics import f1_score\n",
    "from sklearn.metrics import recall_score\n",
    "from sklearn.metrics import precision_score\n",
    "from sklearn.model_selection import cross_val_score\n",
    "\n",
    "# supress warnings due classes with zero score\n",
    "import warnings\n",
    "warnings.filterwarnings('ignore')\n",
    "\n",
    "# set k-value range (1 to 50)\n",
    "k_range = list(range(1, 51))\n",
    "\n",
    "# scores list\n",
    "scores = []\n",
    "scores_kappa = []\n",
    "scores_f1 = []\n",
    "scores_recall = []\n",
    "scores_precision = []\n",
    "scores_cv = []\n",
    "\n",
    "# Compute all k-values\n",
    "for k in k_range:\n",
    "    knn = KNeighborsClassifier(n_neighbors=k)\n",
    "    scores_cv.append(cross_val_score(knn, X_test, y_test, cv=10, scoring='accuracy').mean())\n",
    "    knn.fit(X_train, y_train)\n",
    "    y_pred = knn.predict(X_test)\n",
    "    scores.append(metrics.accuracy_score(y_test, y_pred))\n",
    "    scores_f1.append(metrics.f1_score(y_test, y_pred, average='weighted'))\n",
    "    scores_kappa.append(metrics.cohen_kappa_score(y_test, y_pred, labels=None, weights=None, sample_weight=None))\n",
    "    scores_recall.append(metrics.recall_score(y_test, y_pred, average='weighted'))\n",
    "    scores_precision.append(metrics.precision_score(y_test, y_pred, average='weighted'))\n",
    "    \n",
    "# Optimal k-value\n",
    "k_optimal = scores.index(max(scores)) + 1\n",
    "\n",
    "# Optimal F1\n",
    "f1_optimal = scores_f1.index(max(scores_f1)) + 1\n",
    "\n",
    "# Optimal Kappa\n",
    "kappa_optimal = scores_kappa.index(max(scores_kappa)) + 1\n",
    "\n",
    "# Optimal Recall\n",
    "recall_optimal = scores_recall.index(max(scores_recall)) + 1\n",
    "\n",
    "# Optimal Precision\n",
    "precision_optimal = scores_precision.index(max(scores_precision)) + 1\n",
    "\n",
    "# Optimal CV\n",
    "cv_optimal = scores_cv.index(max(scores_cv)) + 1\n",
    "\n",
    "# Print values\n",
    "print(\"The Best K-values:\\n\")\n",
    "print(\"k-value:\", k_optimal, \"Accuracy:\", round(max(scores), 5))\n",
    "print(\"k-value:\", precision_optimal, \"Precision:\", round(max(scores_precision), 5))\n",
    "print(\"k-value:\", recall_optimal, \"Recall:\", round(max(scores_recall), 5))\n",
    "print(\"k-value:\", f1_optimal, \"F1:\", round(max(scores_f1), 5))\n",
    "print(\"k-value:\", kappa_optimal, \"Kappa:\", round(max(scores_kappa), 5))\n",
    "print(\"CV:\", round(max(scores_cv),5))"
   ]
  },
  {
   "cell_type": "code",
   "execution_count": 524,
   "metadata": {},
   "outputs": [
    {
     "data": {
      "text/plain": [
       "Text(0,0.5,'Testing Accuracy')"
      ]
     },
     "execution_count": 524,
     "metadata": {},
     "output_type": "execute_result"
    },
    {
     "data": {
      "image/png": "[encoded data removed]",
      "text/plain": [
       "<matplotlib.figure.Figure at 0x239796df668>"
      ]
     },
     "metadata": {},
     "output_type": "display_data"
    }
   ],
   "source": [
    "# Plot the k-values for better visualisation\n",
    "plt.title('Optimal Values for K')\n",
    "plt.plot(k_range, scores_f1)\n",
    "plt.xlabel('Value of K for KNN')\n",
    "plt.ylabel('Testing Accuracy')"
   ]
  },
  {
   "cell_type": "code",
   "execution_count": 525,
   "metadata": {},
   "outputs": [
    {
     "name": "stdout",
     "output_type": "stream",
     "text": [
      "             precision    recall  f1-score   support\n",
      "\n",
      "          3       0.00      0.00      0.00         4\n",
      "          4       0.00      0.00      0.00        12\n",
      "          5       0.54      0.65      0.59       148\n",
      "          6       0.44      0.52      0.47       132\n",
      "          7       0.14      0.02      0.04        41\n",
      "          8       0.00      0.00      0.00         3\n",
      "\n",
      "avg / total       0.42      0.49      0.45       340\n",
      "\n",
      "Kappa Coef: 0.13170375775264498\n"
     ]
    }
   ],
   "source": [
    "model = KNeighborsClassifier(n_neighbors=22)\n",
    "results = model_resample(X_train, X_test, y_train, y_test, model)"
   ]
  },
  {
   "cell_type": "markdown",
   "metadata": {},
   "source": [
    "### Comments\n",
    "\n",
    "The Logistic Regression out of the box model gives a **score of 57%**. This not good at all as I am aiming for a baseline of 95%. However more worrying than that is our **recall** especially for the minority classes. Values need to be improved.\n",
    "\n",
    "**Definitions Recap**: \n",
    "* Precision: Ratio of correctly predicted observation to the total observations.\n",
    "* Recall: Recall is the ratio of correctly predicted positive observations to the all observations in actual class\n",
    "* F1 Score: Weighted average of Precision and Recall\n"
   ]
  },
  {
   "cell_type": "markdown",
   "metadata": {},
   "source": [
    "### Automatic Selection Using TPOT"
   ]
  },
  {
   "cell_type": "code",
   "execution_count": 527,
   "metadata": {},
   "outputs": [
    {
     "name": "stdout",
     "output_type": "stream",
     "text": [
      "(3462, 11)\n",
      "(3462,)\n"
     ]
    }
   ],
   "source": [
    "from tpot import TPOTClassifier\n",
    "from imblearn.combine import SMOTETomek\n",
    "from imblearn.over_sampling import SMOTE\n",
    "\n",
    "# SMOTE (Over Sampling Method)\n",
    "model_smote = SMOTE(random_state=0)\n",
    "X_smote, y_smote = model_smote.fit_sample(X, y)\n",
    "\n",
    "print(X_smote.shape)\n",
    "print(y_smote.shape)\n"
   ]
  },
  {
   "cell_type": "code",
   "execution_count": 579,
   "metadata": {},
   "outputs": [
    {
     "data": {
      "image/png": "[encoded data removed]",
      "text/plain": [
       "<matplotlib.figure.Figure at 0x239797e5b38>"
      ]
     },
     "metadata": {},
     "output_type": "display_data"
    }
   ],
   "source": [
    "df_X = pd.DataFrame(X_smote)\n",
    "df_y = pd.DataFrame(y_smote)\n",
    "red_smote = pd.concat([df_X, df_y], axis=1)\n",
    "\n",
    "\n",
    "red_smote.columns = [\"fixed_acidity\", \"volatile_acidity\", \"citric_acid\", \"residual_sugar\", \"chlorides\", \"free_sulfur_dioxide\",\n",
    "                                              \"total_sulfur_dioxide\",\n",
    "                                              \"density\",\n",
    "                                              \"pH\",\n",
    "                                              \"sulphates\",\n",
    "                                              \"alcohol\",\n",
    "                                              \"quality\"]\n",
    "\n",
    "# Plot Graphs\n",
    "plt.xlabel('Rating')\n",
    "plt.ylabel('Count')\n",
    "plt.rcParams[\"figure.figsize\"] = (16,9)\n",
    "plt.title('Resampling using SMOTE')\n",
    "plt.hist([red['quality'], red_resampled['quality'], red_smote['quality']], bins=6,\n",
    "         label=['No Balance', 'TOMEK', 'SMOTE'])\n",
    "plt.legend(loc='upper left')\n",
    "plt.show()"
   ]
  },
  {
   "cell_type": "code",
   "execution_count": 640,
   "metadata": {},
   "outputs": [
    {
     "data": {
      "text/plain": [
       "quality\n",
       "3    577\n",
       "4    577\n",
       "5    577\n",
       "6    577\n",
       "7    577\n",
       "8    577\n",
       "Name: quality, dtype: int64"
      ]
     },
     "execution_count": 640,
     "metadata": {},
     "output_type": "execute_result"
    }
   ],
   "source": [
    "# Double Check class balance\n",
    "red_smote.groupby(['quality'])['quality'].count()"
   ]
  },
  {
   "cell_type": "code",
   "execution_count": 287,
   "metadata": {},
   "outputs": [
    {
     "name": "stdout",
     "output_type": "stream",
     "text": [
      "Warning: xgboost.XGBClassifier is not available and will not be used by TPOT.\n"
     ]
    },
    {
     "name": "stderr",
     "output_type": "stream",
     "text": [
      "                                                                                                                       \r"
     ]
    },
    {
     "name": "stdout",
     "output_type": "stream",
     "text": [
      "Generation 1 - Current best internal CV score: 0.7859570214892553\n"
     ]
    },
    {
     "name": "stderr",
     "output_type": "stream",
     "text": [
      "                                                                                                                       \r"
     ]
    },
    {
     "name": "stdout",
     "output_type": "stream",
     "text": [
      "Generation 2 - Current best internal CV score: 0.7859570214892553\n"
     ]
    },
    {
     "name": "stderr",
     "output_type": "stream",
     "text": [
      "                                                                                                                       \r"
     ]
    },
    {
     "name": "stdout",
     "output_type": "stream",
     "text": [
      "Generation 3 - Current best internal CV score: 0.7932083958020989\n"
     ]
    },
    {
     "name": "stderr",
     "output_type": "stream",
     "text": [
      "                                                                                                                       \r"
     ]
    },
    {
     "name": "stdout",
     "output_type": "stream",
     "text": [
      "Generation 4 - Current best internal CV score: 0.7932083958020989\n"
     ]
    },
    {
     "name": "stderr",
     "output_type": "stream",
     "text": [
      "                                                                                                                       \r"
     ]
    },
    {
     "name": "stdout",
     "output_type": "stream",
     "text": [
      "Generation 5 - Current best internal CV score: 0.7955322338830585\n"
     ]
    },
    {
     "name": "stderr",
     "output_type": "stream",
     "text": [
      "                                                                                                                       \r"
     ]
    },
    {
     "name": "stdout",
     "output_type": "stream",
     "text": [
      "\n",
      "Best pipeline: RandomForestClassifier(input_matrix, bootstrap=False, criterion=gini, max_features=0.2, min_samples_leaf=3, min_samples_split=13, n_estimators=100)\n",
      "Model: Score: 0.968\n"
     ]
    },
    {
     "data": {
      "text/plain": [
       "True"
      ]
     },
     "execution_count": 287,
     "metadata": {},
     "output_type": "execute_result"
    }
   ],
   "source": [
    "# T-Pot Classifier\n",
    "tpot = TPOTClassifier(generations=5, population_size=50, verbosity=2)\n",
    "\n",
    "# Train Model\n",
    "tpot.fit(X_smote, y_smote)\n",
    "\n",
    "# Print Score\n",
    "print(\"Model: Score:\", round(tpot.score(X_test, y_test), 3))\n",
    "\n",
    "# Output the model settings\n",
    "tpot.export('tpot_smote.py')"
   ]
  },
  {
   "cell_type": "markdown",
   "metadata": {},
   "source": [
    "### Random Forrest Classifier"
   ]
  },
  {
   "cell_type": "code",
   "execution_count": 590,
   "metadata": {
    "scrolled": true
   },
   "outputs": [
    {
     "name": "stdout",
     "output_type": "stream",
     "text": [
      "             precision    recall  f1-score   support\n",
      "\n",
      "          3       1.00      0.25      0.40         4\n",
      "          4       1.00      0.25      0.40        12\n",
      "          5       0.91      0.98      0.94       148\n",
      "          6       0.94      0.98      0.96       132\n",
      "          7       0.95      0.85      0.90        41\n",
      "          8       0.00      0.00      0.00         3\n",
      "\n",
      "avg / total       0.92      0.92      0.91       340\n",
      "\n"
     ]
    }
   ],
   "source": [
    "# supress warnings due classes with zero score\n",
    "import warnings\n",
    "warnings.filterwarnings('ignore')\n",
    "\n",
    "model = RandomForestClassifier(bootstrap=False, \n",
    "                               criterion=\"gini\", \n",
    "                               max_features=0.2, \n",
    "                               min_samples_leaf=3, \n",
    "                               min_samples_split=13, \n",
    "                               n_estimators=100)\n",
    "# Train Model\n",
    "model.fit(X_test, y_test)\n",
    "\n",
    "# Make Predictions    \n",
    "predictions = model.predict(X_test)\n",
    "    \n",
    "print(classification_report(y_test, predictions))"
   ]
  },
  {
   "cell_type": "code",
   "execution_count": 587,
   "metadata": {},
   "outputs": [
    {
     "data": {
      "text/plain": [
       "0.8870713277422569"
      ]
     },
     "execution_count": 587,
     "metadata": {},
     "output_type": "execute_result"
    }
   ],
   "source": [
    "# Checking the Cohen Kappa Coefficient\n",
    "metrics.cohen_kappa_score(y_test, predictions, labels=None, weights=None, sample_weight=None)"
   ]
  },
  {
   "cell_type": "code",
   "execution_count": 588,
   "metadata": {},
   "outputs": [
    {
     "name": "stdout",
     "output_type": "stream",
     "text": [
      "             precision    recall  f1-score   support\n",
      "\n",
      "          3       0.00      0.00      0.00         4\n",
      "          4       0.00      0.00      0.00        12\n",
      "          5       0.66      0.79      0.72       148\n",
      "          6       0.54      0.61      0.57       132\n",
      "          7       0.40      0.15      0.21        41\n",
      "          8       0.00      0.00      0.00         3\n",
      "\n",
      "avg / total       0.55      0.60      0.56       340\n",
      "\n"
     ]
    },
    {
     "data": {
      "text/plain": [
       "0.3273937591151286"
      ]
     },
     "execution_count": 588,
     "metadata": {},
     "output_type": "execute_result"
    }
   ],
   "source": [
    "# supress warnings due classes with zero score\n",
    "import warnings\n",
    "warnings.filterwarnings('ignore')\n",
    "\n",
    "# Logistic Regression\n",
    "model = LogisticRegression()\n",
    "\n",
    "# Train Model\n",
    "model.fit(X_test, y_test)\n",
    "\n",
    "# Make Predictions    \n",
    "predictions = model.predict(X_test)\n",
    "    \n",
    "print(classification_report(y_test, predictions))\n",
    "\n",
    "# Checking the Cohen Kappa Coefficient\n",
    "metrics.cohen_kappa_score(y_test, predictions, labels=None, weights=None, sample_weight=None)"
   ]
  },
  {
   "cell_type": "markdown",
   "metadata": {},
   "source": [
    "### Confusion Matrix"
   ]
  },
  {
   "cell_type": "code",
   "execution_count": 591,
   "metadata": {},
   "outputs": [
    {
     "data": {
      "text/plain": [
       "<matplotlib.figure.Figure at 0x23970cdfa90>"
      ]
     },
     "metadata": {},
     "output_type": "display_data"
    },
    {
     "data": {
      "text/plain": [
       "<matplotlib.figure.Figure at 0x23970cdf0f0>"
      ]
     },
     "metadata": {},
     "output_type": "display_data"
    },
    {
     "data": {
      "image/png": "[encoded data removed]",
      "text/plain": [
       "<matplotlib.figure.Figure at 0x2397c878748>"
      ]
     },
     "metadata": {},
     "output_type": "display_data"
    }
   ],
   "source": [
    "import itertools\n",
    "import numpy as np\n",
    "import matplotlib.pyplot as plt\n",
    "\n",
    "from sklearn import svm, datasets\n",
    "from sklearn.model_selection import train_test_split\n",
    "from sklearn.metrics import confusion_matrix\n",
    "\n",
    "class_names = ['3', '4', '5', '6', '7', '8']\n",
    "\n",
    "\n",
    "def plot_confusion_matrix(cm, classes, cmap=plt.cm.Blues):\n",
    "    \"\"\"\n",
    "    This function prints and plots the confusion matrix.\n",
    "    Normalization can be applied by setting `normalize=True`.\n",
    "    \"\"\"\n",
    "\n",
    "    plt.figure(figsize=(12,7))\n",
    "    plt.imshow(cm, interpolation='nearest', cmap=cmap)\n",
    "    plt.title(\"Confusion Matrix\")\n",
    "    plt.colorbar()\n",
    "    tick_marks = np.arange(len(classes))\n",
    "    plt.xticks(tick_marks, classes, rotation=0)\n",
    "    plt.yticks(tick_marks, classes)\n",
    "\n",
    "    fmt = 'd'\n",
    "    thresh = cm.max() / 2.\n",
    "    \n",
    "    for i, j in itertools.product(range(cm.shape[0]), range(cm.shape[1])):\n",
    "        plt.text(j, i, format(cm[i, j], fmt),\n",
    "                 horizontalalignment=\"center\",\n",
    "                 color=\"white\" if cm[i, j] > thresh else \"black\")\n",
    "\n",
    "    plt.tight_layout()\n",
    "    plt.ylabel('Actual Rate')\n",
    "    plt.xlabel('Predicted Rate')\n",
    "\n",
    "# Compute confusion matrix\n",
    "cnf_matrix = confusion_matrix(y_test, predictions)\n",
    "np.set_printoptions(precision=2)\n",
    "\n",
    "# Plot non-normalized confusion matrix\n",
    "plt.figure()\n",
    "\n",
    "# Plot normalized confusion matrix\n",
    "plt.figure()\n",
    "plot_confusion_matrix(cnf_matrix, classes=class_names)\n",
    "\n",
    "plt.show()"
   ]
  },
  {
   "cell_type": "markdown",
   "metadata": {},
   "source": [
    "# Optimal Wine Properties\n",
    "\n",
    "The top-3 wine most important chemical properties for wine quality are:\n",
    "\n",
    "* Alcohol\n",
    "* Total Sulfur Dioxide\n",
    "* Sulphates\n",
    "\n",
    "These properties need to be within certain chemical ranges in order in order to make an higher quality wine.\n",
    "\n"
   ]
  },
  {
   "cell_type": "markdown",
   "metadata": {},
   "source": [
    "# Final Thoughts"
   ]
  },
  {
   "cell_type": "markdown",
   "metadata": {},
   "source": [
    "My biggest challenge was how to deal with imbalanced data. On real life the data sets are not perfect and therefore an imperfect data sets have better learnings. \n",
    "\n",
    "At the end, this is not about to get the best result but instead to make the best out of the data made available to us.\n",
    "\n",
    "Please check the Web-api folder for the API created using Flask and website creation as a continuous effort for this project. "
   ]
  },
  {
   "cell_type": "code",
   "execution_count": null,
   "metadata": {},
   "outputs": [],
   "source": []
  }
 ],
 "metadata": {
  "kernelspec": {
   "display_name": "Python 3",
   "language": "python",
   "name": "python3"
  },
  "language_info": {
   "codemirror_mode": {
    "name": "ipython",
    "version": 3
   },
   "file_extension": ".py",
   "mimetype": "text/x-python",
   "name": "python",
   "nbconvert_exporter": "python",
   "pygments_lexer": "ipython3",
   "version": "3.6.5"
  }
 },
 "nbformat": 4,
 "nbformat_minor": 2
}
